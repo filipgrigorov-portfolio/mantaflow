{
 "cells": [
  {
   "cell_type": "code",
   "execution_count": 6,
   "id": "27524e8b-8db5-4bd3-b1a5-0d8c79a3db6c",
   "metadata": {
    "tags": []
   },
   "outputs": [],
   "source": [
    "import imageio as io\n",
    "import numpy as np"
   ]
  },
  {
   "cell_type": "code",
   "execution_count": 9,
   "id": "6792d193-b24a-4f28-b3d1-5b694de80a70",
   "metadata": {
    "tags": []
   },
   "outputs": [],
   "source": [
    "indices = np.arange(1, 20)\n",
    "names1 = [f\"tau_sample_{idx}.jpg\" for idx in indices]\n",
    "names2 = [f\"tau_train_{idx}.jpg\" for idx in indices]\n",
    "arr1 = [io.v2.imread(name) for name in names1 ]\n",
    "arr2 = [io.v2.imread(name) for name in names2 ]"
   ]
  },
  {
   "cell_type": "code",
   "execution_count": 11,
   "id": "e4202016-99ed-4aca-93ee-e18aa360ecbd",
   "metadata": {
    "tags": []
   },
   "outputs": [],
   "source": [
    "diffs = [ arr1[idx] - arr2[idx] for idx in range(len(arr1)) ]"
   ]
  },
  {
   "cell_type": "code",
   "execution_count": 12,
   "id": "135cbbc0-e648-459a-8f48-7fbd1c29dba1",
   "metadata": {
    "tags": []
   },
   "outputs": [
    {
     "name": "stdout",
     "output_type": "stream",
     "text": [
      "0\n",
      "0\n",
      "0\n",
      "0\n",
      "0\n",
      "0\n",
      "0\n",
      "0\n",
      "0\n",
      "0\n",
      "0\n",
      "0\n",
      "0\n",
      "0\n",
      "0\n",
      "0\n",
      "0\n",
      "0\n",
      "0\n"
     ]
    },
    {
     "data": {
      "text/plain": [
       "[None,\n",
       " None,\n",
       " None,\n",
       " None,\n",
       " None,\n",
       " None,\n",
       " None,\n",
       " None,\n",
       " None,\n",
       " None,\n",
       " None,\n",
       " None,\n",
       " None,\n",
       " None,\n",
       " None,\n",
       " None,\n",
       " None,\n",
       " None,\n",
       " None]"
      ]
     },
     "execution_count": 12,
     "metadata": {},
     "output_type": "execute_result"
    }
   ],
   "source": [
    "[print(d.max()) for d in diffs]"
   ]
  },
  {
   "cell_type": "code",
   "execution_count": null,
   "id": "f463dfa8-b4ab-48cb-9199-df9e93bb7718",
   "metadata": {},
   "outputs": [],
   "source": []
  }
 ],
 "metadata": {
  "kernelspec": {
   "display_name": "Python 3 (ipykernel)",
   "language": "python",
   "name": "python3"
  },
  "language_info": {
   "codemirror_mode": {
    "name": "ipython",
    "version": 3
   },
   "file_extension": ".py",
   "mimetype": "text/x-python",
   "name": "python",
   "nbconvert_exporter": "python",
   "pygments_lexer": "ipython3",
   "version": "3.11.5"
  }
 },
 "nbformat": 4,
 "nbformat_minor": 5
}
